{
 "cells": [
  {
   "cell_type": "code",
   "execution_count": 1,
   "metadata": {},
   "outputs": [
    {
     "name": "stdout",
     "output_type": "stream",
     "text": [
      "Welcome to JupyROOT 6.14/00\n"
     ]
    }
   ],
   "source": [
    "import ROOT\n",
    "#from ROOT import *\n",
    "import os\n",
    "%jsroot on"
   ]
  },
  {
   "cell_type": "code",
   "execution_count": 2,
   "metadata": {},
   "outputs": [
    {
     "data": {
      "application/javascript": [
       "IPython.OutputArea.prototype._should_scroll = function(lines) {\n",
       "    return false;\n",
       "}"
      ],
      "text/plain": [
       "<IPython.core.display.Javascript object>"
      ]
     },
     "metadata": {},
     "output_type": "display_data"
    }
   ],
   "source": [
    "%%javascript\n",
    "IPython.OutputArea.prototype._should_scroll = function(lines) {\n",
    "    return false;\n",
    "}"
   ]
  },
  {
   "cell_type": "code",
   "execution_count": 3,
   "metadata": {},
   "outputs": [
    {
     "name": "stdout",
     "output_type": "stream",
     "text": [
      "<ROOT.TFile object (\"DQM_10_2_0_pre6_pu25_pmx.root\") at 0x7fffef73b660> <ROOT.TFile object (\"DQM_10_2_0_pre6_pu25.root\") at 0x7fffef696d90>\n"
     ]
    }
   ],
   "source": [
    "# 10_2_0_pre3\n",
    "#ref = ROOT.TFile('DQM_10_2_0_pre2.root')\n",
    "#val = ROOT.TFile('DQM_10_2_0_pre3.root')\n",
    "\n",
    "# 10_2_0_pre3 (PU25)\n",
    "#ref = ROOT.TFile('DQM_10_2_0_pre2_pu25.root')\n",
    "#val = ROOT.TFile('DQM_10_2_0_pre3_pu25.root')\n",
    "\n",
    "# 10_2_0_pre3_pmx (PU25)\n",
    "ref = ROOT.TFile('DQM_10_2_0_pre6_pu25.root')\n",
    "val = ROOT.TFile('DQM_10_2_0_pre6_pu25_pmx.root')\n",
    "\n",
    "print val, ref"
   ]
  },
  {
   "cell_type": "code",
   "execution_count": 4,
   "metadata": {},
   "outputs": [],
   "source": [
    "trig = 'HLT_PFHT330PT30_QuadPFJet_75_60_45_40_v'\n",
    "#trig = 'HLT_PFHT400_SixPFJet32_DoublePFBTagDeepCSV_'\n",
    "path1 = 'DQMData/Run 1/HLT/Run summary/BTV/Validation/Discriminator/{}/efficiency'.format(trig)\n",
    "path2 = 'DQMData/Run 1/HLT/Run summary/BTV/Validation/Discriminator/{}'.format(trig)\n",
    "names = []\n",
    "for i in val.Get(path2).GetListOfKeys():\n",
    "    name = i.GetName()\n",
    "    if not name.startswith(\"<\"):\n",
    "        names.append(name)\n",
    "        #print \"'\"+name+\"',\""
   ]
  },
  {
   "cell_type": "code",
   "execution_count": 5,
   "metadata": {},
   "outputs": [],
   "source": [
    "hist_names1 = [\n",
    "'hltDeepCombinedSecondaryVertexBJetTagsCalo__b_efficiency_vs_disc',\n",
    "'hltDeepCombinedSecondaryVertexBJetTagsCalo__c_efficiency_vs_disc',\n",
    "'hltDeepCombinedSecondaryVertexBJetTagsCalo__g_efficiency_vs_disc',\n",
    "'hltDeepCombinedSecondaryVertexBJetTagsCalo__light_efficiency_vs_disc',\n",
    "'hltDeepCombinedSecondaryVertexBJetTagsCalo__uds_efficiency_vs_disc',\n",
    "'hltDeepCombinedSecondaryVertexBJetTagsCalo_b_c_mistagrate',\n",
    "'hltDeepCombinedSecondaryVertexBJetTagsCalo_b_g_mistagrate',\n",
    "'hltDeepCombinedSecondaryVertexBJetTagsCalo_b_light_mistagrate',\n",
    "]\n",
    "hist_names2 = [\n",
    "'hltDeepCombinedSecondaryVertexBJetTagsCalo__b',\n",
    "'hltDeepCombinedSecondaryVertexBJetTagsCalo__c',\n",
    "'hltDeepCombinedSecondaryVertexBJetTagsCalo__g',\n",
    "'hltDeepCombinedSecondaryVertexBJetTagsCalo__light',\n",
    "'hltDeepCombinedSecondaryVertexBJetTagsCalo__uds',\n",
    "'hltDeepCombinedSecondaryVertexBJetTagsCalo_all',\n",
    "]\n",
    "hist_names01 = [\n",
    "'hltCombinedSecondaryVertexBJetTagsCalo__b_efficiency_vs_disc',\n",
    "'hltCombinedSecondaryVertexBJetTagsCalo__c_efficiency_vs_disc',\n",
    "'hltCombinedSecondaryVertexBJetTagsCalo__g_efficiency_vs_disc',\n",
    "'hltCombinedSecondaryVertexBJetTagsCalo__light_efficiency_vs_disc',\n",
    "'hltCombinedSecondaryVertexBJetTagsCalo__uds_efficiency_vs_disc',\n",
    "'hltCombinedSecondaryVertexBJetTagsCalo_b_c_mistagrate',\n",
    "'hltCombinedSecondaryVertexBJetTagsCalo_b_g_mistagrate',\n",
    "'hltCombinedSecondaryVertexBJetTagsCalo_b_light_mistagrate',\n",
    "]\n",
    "hist_names02 = [\n",
    "'hltCombinedSecondaryVertexBJetTagsCalo__b',\n",
    "'hltCombinedSecondaryVertexBJetTagsCalo__c',\n",
    "'hltCombinedSecondaryVertexBJetTagsCalo__g',\n",
    "'hltCombinedSecondaryVertexBJetTagsCalo__light',\n",
    "'hltCombinedSecondaryVertexBJetTagsCalo__uds',\n",
    "'hltCombinedSecondaryVertexBJetTagsCalo_all',\n",
    "]"
   ]
  },
  {
   "cell_type": "code",
   "execution_count": 8,
   "metadata": {},
   "outputs": [
    {
     "name": "stdout",
     "output_type": "stream",
     "text": [
      "<ROOT.TH1F object (\"hltDeepCombinedSecondaryVertexBJetTagsCalo__b_efficiency_vs_disc\") at 0x7fffef908b80>\n",
      "<ROOT.TH1F object (\"hltDeepCombinedSecondaryVertexBJetTagsCalo__c_efficiency_vs_disc\") at 0x7fffefd7c580>\n",
      "<ROOT.TH1F object (\"hltDeepCombinedSecondaryVertexBJetTagsCalo__g_efficiency_vs_disc\") at 0x7fffefd84f80>\n",
      "<ROOT.TH1F object (\"hltDeepCombinedSecondaryVertexBJetTagsCalo__light_efficiency_vs_disc\") at 0x7fffefd7e9d0>\n",
      "<ROOT.TH1F object (\"hltDeepCombinedSecondaryVertexBJetTagsCalo__uds_efficiency_vs_disc\") at 0x7fffefd74200>\n",
      "<ROOT.TH1F object (\"hltDeepCombinedSecondaryVertexBJetTagsCalo_b_c_mistagrate\") at 0x7fffefd70e10>\n",
      "<ROOT.TH1F object (\"hltDeepCombinedSecondaryVertexBJetTagsCalo_b_g_mistagrate\") at 0x7fffefcfdda0>\n",
      "<ROOT.TH1F object (\"hltDeepCombinedSecondaryVertexBJetTagsCalo_b_light_mistagrate\") at 0x7fffefd921d0>\n",
      "<ROOT.TH1F object (\"hltDeepCombinedSecondaryVertexBJetTagsCalo__b\") at 0x7fffefb34900>\n",
      "<ROOT.TH1F object (\"hltDeepCombinedSecondaryVertexBJetTagsCalo__c\") at 0x7fffefd86710>\n",
      "<ROOT.TH1F object (\"hltDeepCombinedSecondaryVertexBJetTagsCalo__g\") at 0x7fffefb5d460>\n",
      "<ROOT.TH1F object (\"hltDeepCombinedSecondaryVertexBJetTagsCalo__light\") at 0x7fffefd6a420>\n",
      "<ROOT.TH1F object (\"hltDeepCombinedSecondaryVertexBJetTagsCalo__uds\") at 0x7fffefcf8520>\n",
      "<ROOT.TH1F object (\"hltDeepCombinedSecondaryVertexBJetTagsCalo_all\") at 0x7fffefd3a7b0>\n",
      "<ROOT.TH1F object (\"hltDeepCombinedSecondaryVertexBJetTagsCalo__b_efficiency_vs_disc\") at 0x7fffefcf8f30>\n",
      "<ROOT.TH1F object (\"hltDeepCombinedSecondaryVertexBJetTagsCalo__c_efficiency_vs_disc\") at 0x7fffefd87750>\n",
      "<ROOT.TH1F object (\"hltDeepCombinedSecondaryVertexBJetTagsCalo__g_efficiency_vs_disc\") at 0x7fffefd7c0e0>\n",
      "<ROOT.TH1F object (\"hltDeepCombinedSecondaryVertexBJetTagsCalo__light_efficiency_vs_disc\") at 0x7fffef907770>\n",
      "<ROOT.TH1F object (\"hltDeepCombinedSecondaryVertexBJetTagsCalo__uds_efficiency_vs_disc\") at 0x7fffefd6b410>\n",
      "<ROOT.TH1F object (\"hltDeepCombinedSecondaryVertexBJetTagsCalo_b_c_mistagrate\") at 0x7fffefd76c50>\n",
      "<ROOT.TH1F object (\"hltDeepCombinedSecondaryVertexBJetTagsCalo_b_g_mistagrate\") at 0x7fffefd93fe0>\n",
      "<ROOT.TH1F object (\"hltDeepCombinedSecondaryVertexBJetTagsCalo_b_light_mistagrate\") at 0x7fffefacce90>\n",
      "<ROOT.TH1F object (\"hltDeepCombinedSecondaryVertexBJetTagsCalo__b\") at 0x7fffef8fd2d0>\n",
      "<ROOT.TH1F object (\"hltDeepCombinedSecondaryVertexBJetTagsCalo__c\") at 0x7fffefd75b80>\n",
      "<ROOT.TH1F object (\"hltDeepCombinedSecondaryVertexBJetTagsCalo__g\") at 0x7fffef903750>\n",
      "<ROOT.TH1F object (\"hltDeepCombinedSecondaryVertexBJetTagsCalo__light\") at 0x7fffefd6a420>\n",
      "<ROOT.TH1F object (\"hltDeepCombinedSecondaryVertexBJetTagsCalo__uds\") at 0x7fffefb4f4b0>\n",
      "<ROOT.TH1F object (\"hltDeepCombinedSecondaryVertexBJetTagsCalo_all\") at 0x7fffefd80170>\n",
      "<ROOT.TH1F object (\"hltDeepCombinedSecondaryVertexBJetTagsCalo__b_efficiency_vs_disc\") at 0x7fffefad8860>\n",
      "<ROOT.TH1F object (\"hltDeepCombinedSecondaryVertexBJetTagsCalo__c_efficiency_vs_disc\") at 0x7fffefd78aa0>\n",
      "<ROOT.TH1F object (\"hltDeepCombinedSecondaryVertexBJetTagsCalo__g_efficiency_vs_disc\") at 0x7fffefd7e860>\n",
      "<ROOT.TH1F object (\"hltDeepCombinedSecondaryVertexBJetTagsCalo__light_efficiency_vs_disc\") at 0x7fffefcd9e30>\n",
      "<ROOT.TH1F object (\"hltDeepCombinedSecondaryVertexBJetTagsCalo__uds_efficiency_vs_disc\") at 0x7fffefd96670>\n",
      "<ROOT.TH1F object (\"hltDeepCombinedSecondaryVertexBJetTagsCalo_b_c_mistagrate\") at 0x7fffefd738a0>\n",
      "<ROOT.TH1F object (\"hltDeepCombinedSecondaryVertexBJetTagsCalo_b_g_mistagrate\") at 0x7fffefd76710>\n",
      "<ROOT.TH1F object (\"hltDeepCombinedSecondaryVertexBJetTagsCalo_b_light_mistagrate\") at 0x7fffefd95f40>\n",
      "<ROOT.TH1F object (\"hltDeepCombinedSecondaryVertexBJetTagsCalo__b\") at 0x7fffefb458b0>\n",
      "<ROOT.TH1F object (\"hltDeepCombinedSecondaryVertexBJetTagsCalo__c\") at 0x7fffefd771c0>\n",
      "<ROOT.TH1F object (\"hltDeepCombinedSecondaryVertexBJetTagsCalo__g\") at 0x7fffef903750>\n",
      "<ROOT.TH1F object (\"hltDeepCombinedSecondaryVertexBJetTagsCalo__light\") at 0x7fffef8aa240>\n",
      "<ROOT.TH1F object (\"hltDeepCombinedSecondaryVertexBJetTagsCalo__uds\") at 0x7fffefb4f4b0>\n",
      "<ROOT.TH1F object (\"hltDeepCombinedSecondaryVertexBJetTagsCalo_all\") at 0x7fffefd9b5b0>\n"
     ]
    },
    {
     "name": "stderr",
     "output_type": "stream",
     "text": [
      "Info in <TCanvas::Print>: png file /home/anovak/Desktop/RelVal/10_2_0_pu25_pmxHLT_PFHT330PT30_Quad/hltDeepCombinedSecondaryVertexBJetTagsCalo__b_efficiency_vs_disc.png has been created\n",
      "Info in <TCanvas::Print>: png file /home/anovak/Desktop/RelVal/10_2_0_pu25_pmxHLT_PFHT330PT30_Quad/hltDeepCombinedSecondaryVertexBJetTagsCalo__c_efficiency_vs_disc.png has been created\n",
      "Info in <TCanvas::Print>: png file /home/anovak/Desktop/RelVal/10_2_0_pu25_pmxHLT_PFHT330PT30_Quad/hltDeepCombinedSecondaryVertexBJetTagsCalo__g_efficiency_vs_disc.png has been created\n",
      "Info in <TCanvas::Print>: png file /home/anovak/Desktop/RelVal/10_2_0_pu25_pmxHLT_PFHT330PT30_Quad/hltDeepCombinedSecondaryVertexBJetTagsCalo__light_efficiency_vs_disc.png has been created\n",
      "Info in <TCanvas::Print>: png file /home/anovak/Desktop/RelVal/10_2_0_pu25_pmxHLT_PFHT330PT30_Quad/hltDeepCombinedSecondaryVertexBJetTagsCalo__uds_efficiency_vs_disc.png has been created\n",
      "Info in <TCanvas::Print>: png file /home/anovak/Desktop/RelVal/10_2_0_pu25_pmxHLT_PFHT330PT30_Quad/hltDeepCombinedSecondaryVertexBJetTagsCalo_b_c_mistagrate.png has been created\n",
      "Info in <TCanvas::Print>: png file /home/anovak/Desktop/RelVal/10_2_0_pu25_pmxHLT_PFHT330PT30_Quad/hltDeepCombinedSecondaryVertexBJetTagsCalo_b_g_mistagrate.png has been created\n",
      "Info in <TCanvas::Print>: png file /home/anovak/Desktop/RelVal/10_2_0_pu25_pmxHLT_PFHT330PT30_Quad/hltDeepCombinedSecondaryVertexBJetTagsCalo_b_light_mistagrate.png has been created\n",
      "Info in <TCanvas::Print>: png file /home/anovak/Desktop/RelVal/10_2_0_pu25_pmxHLT_PFHT330PT30_Quad/hltDeepCombinedSecondaryVertexBJetTagsCalo__b.png has been created\n",
      "Info in <TCanvas::Print>: png file /home/anovak/Desktop/RelVal/10_2_0_pu25_pmxHLT_PFHT330PT30_Quad/hltDeepCombinedSecondaryVertexBJetTagsCalo__c.png has been created\n",
      "Info in <TCanvas::Print>: png file /home/anovak/Desktop/RelVal/10_2_0_pu25_pmxHLT_PFHT330PT30_Quad/hltDeepCombinedSecondaryVertexBJetTagsCalo__g.png has been created\n",
      "Info in <TCanvas::Print>: png file /home/anovak/Desktop/RelVal/10_2_0_pu25_pmxHLT_PFHT330PT30_Quad/hltDeepCombinedSecondaryVertexBJetTagsCalo__light.png has been created\n",
      "Info in <TCanvas::Print>: png file /home/anovak/Desktop/RelVal/10_2_0_pu25_pmxHLT_PFHT330PT30_Quad/hltDeepCombinedSecondaryVertexBJetTagsCalo__uds.png has been created\n",
      "Info in <TCanvas::Print>: png file /home/anovak/Desktop/RelVal/10_2_0_pu25_pmxHLT_PFHT330PT30_Quad/hltDeepCombinedSecondaryVertexBJetTagsCalo_all.png has been created\n",
      "Info in <TCanvas::Print>: png file /home/anovak/Desktop/RelVal/10_2_0_pu25HLT_PFHT330PT30_Quad/hltDeepCombinedSecondaryVertexBJetTagsCalo__b_efficiency_vs_disc.png has been created\n",
      "Info in <TCanvas::Print>: png file /home/anovak/Desktop/RelVal/10_2_0_pu25HLT_PFHT330PT30_Quad/hltDeepCombinedSecondaryVertexBJetTagsCalo__c_efficiency_vs_disc.png has been created\n",
      "Info in <TCanvas::Print>: png file /home/anovak/Desktop/RelVal/10_2_0_pu25HLT_PFHT330PT30_Quad/hltDeepCombinedSecondaryVertexBJetTagsCalo__g_efficiency_vs_disc.png has been created\n",
      "Info in <TCanvas::Print>: png file /home/anovak/Desktop/RelVal/10_2_0_pu25HLT_PFHT330PT30_Quad/hltDeepCombinedSecondaryVertexBJetTagsCalo__light_efficiency_vs_disc.png has been created\n",
      "Info in <TCanvas::Print>: png file /home/anovak/Desktop/RelVal/10_2_0_pu25HLT_PFHT330PT30_Quad/hltDeepCombinedSecondaryVertexBJetTagsCalo__uds_efficiency_vs_disc.png has been created\n",
      "Info in <TCanvas::Print>: png file /home/anovak/Desktop/RelVal/10_2_0_pu25HLT_PFHT330PT30_Quad/hltDeepCombinedSecondaryVertexBJetTagsCalo_b_c_mistagrate.png has been created\n",
      "Info in <TCanvas::Print>: png file /home/anovak/Desktop/RelVal/10_2_0_pu25HLT_PFHT330PT30_Quad/hltDeepCombinedSecondaryVertexBJetTagsCalo_b_g_mistagrate.png has been created\n",
      "Info in <TCanvas::Print>: png file /home/anovak/Desktop/RelVal/10_2_0_pu25HLT_PFHT330PT30_Quad/hltDeepCombinedSecondaryVertexBJetTagsCalo_b_light_mistagrate.png has been created\n",
      "Info in <TCanvas::Print>: png file /home/anovak/Desktop/RelVal/10_2_0_pu25HLT_PFHT330PT30_Quad/hltDeepCombinedSecondaryVertexBJetTagsCalo__b.png has been created\n",
      "Info in <TCanvas::Print>: png file /home/anovak/Desktop/RelVal/10_2_0_pu25HLT_PFHT330PT30_Quad/hltDeepCombinedSecondaryVertexBJetTagsCalo__c.png has been created\n",
      "Info in <TCanvas::Print>: png file /home/anovak/Desktop/RelVal/10_2_0_pu25HLT_PFHT330PT30_Quad/hltDeepCombinedSecondaryVertexBJetTagsCalo__g.png has been created\n",
      "Info in <TCanvas::Print>: png file /home/anovak/Desktop/RelVal/10_2_0_pu25HLT_PFHT330PT30_Quad/hltDeepCombinedSecondaryVertexBJetTagsCalo__light.png has been created\n",
      "Info in <TCanvas::Print>: png file /home/anovak/Desktop/RelVal/10_2_0_pu25HLT_PFHT330PT30_Quad/hltDeepCombinedSecondaryVertexBJetTagsCalo__uds.png has been created\n",
      "Info in <TCanvas::Print>: png file /home/anovak/Desktop/RelVal/10_2_0_pu25HLT_PFHT330PT30_Quad/hltDeepCombinedSecondaryVertexBJetTagsCalo_all.png has been created\n",
      "Info in <TCanvas::Print>: png file /home/anovak/Desktop/RelVal/10_2_0HLT_PFHT330PT30_Quad/hltDeepCombinedSecondaryVertexBJetTagsCalo__b_efficiency_vs_disc.png has been created\n",
      "Info in <TCanvas::Print>: png file /home/anovak/Desktop/RelVal/10_2_0HLT_PFHT330PT30_Quad/hltDeepCombinedSecondaryVertexBJetTagsCalo__c_efficiency_vs_disc.png has been created\n",
      "Info in <TCanvas::Print>: png file /home/anovak/Desktop/RelVal/10_2_0HLT_PFHT330PT30_Quad/hltDeepCombinedSecondaryVertexBJetTagsCalo__g_efficiency_vs_disc.png has been created\n",
      "Info in <TCanvas::Print>: png file /home/anovak/Desktop/RelVal/10_2_0HLT_PFHT330PT30_Quad/hltDeepCombinedSecondaryVertexBJetTagsCalo__light_efficiency_vs_disc.png has been created\n",
      "Info in <TCanvas::Print>: png file /home/anovak/Desktop/RelVal/10_2_0HLT_PFHT330PT30_Quad/hltDeepCombinedSecondaryVertexBJetTagsCalo__uds_efficiency_vs_disc.png has been created\n",
      "Info in <TCanvas::Print>: png file /home/anovak/Desktop/RelVal/10_2_0HLT_PFHT330PT30_Quad/hltDeepCombinedSecondaryVertexBJetTagsCalo_b_c_mistagrate.png has been created\n",
      "Info in <TCanvas::Print>: png file /home/anovak/Desktop/RelVal/10_2_0HLT_PFHT330PT30_Quad/hltDeepCombinedSecondaryVertexBJetTagsCalo_b_g_mistagrate.png has been created\n",
      "Info in <TCanvas::Print>: png file /home/anovak/Desktop/RelVal/10_2_0HLT_PFHT330PT30_Quad/hltDeepCombinedSecondaryVertexBJetTagsCalo_b_light_mistagrate.png has been created\n",
      "Info in <TCanvas::Print>: png file /home/anovak/Desktop/RelVal/10_2_0HLT_PFHT330PT30_Quad/hltDeepCombinedSecondaryVertexBJetTagsCalo__b.png has been created\n",
      "Info in <TCanvas::Print>: png file /home/anovak/Desktop/RelVal/10_2_0HLT_PFHT330PT30_Quad/hltDeepCombinedSecondaryVertexBJetTagsCalo__c.png has been created\n",
      "Info in <TCanvas::Print>: png file /home/anovak/Desktop/RelVal/10_2_0HLT_PFHT330PT30_Quad/hltDeepCombinedSecondaryVertexBJetTagsCalo__g.png has been created\n",
      "Info in <TCanvas::Print>: png file /home/anovak/Desktop/RelVal/10_2_0HLT_PFHT330PT30_Quad/hltDeepCombinedSecondaryVertexBJetTagsCalo__light.png has been created\n",
      "Info in <TCanvas::Print>: png file /home/anovak/Desktop/RelVal/10_2_0HLT_PFHT330PT30_Quad/hltDeepCombinedSecondaryVertexBJetTagsCalo__uds.png has been created\n",
      "Info in <TCanvas::Print>: png file /home/anovak/Desktop/RelVal/10_2_0HLT_PFHT330PT30_Quad/hltDeepCombinedSecondaryVertexBJetTagsCalo_all.png has been created\n"
     ]
    }
   ],
   "source": [
    "def plots(names, path, val, ref, out=None, names2=None):\n",
    "    if out == None: out=val+trig[:20]\n",
    "    reff = ROOT.TFile('DQM_{}.root'.format(ref))\n",
    "    valf = ROOT.TFile('DQM_{}.root'.format(val))\n",
    "    for i, n in enumerate(names):\n",
    "        #c1 = ROOT.TCanvas( 'c1', 'A Simple Graph Example', 200, 10, 700, 500 )\n",
    "        exec('c{} = ROOT.TCanvas(\"{}\", \"{}\", 200, 10, 700, 500)'.format(i,n,n))\n",
    "        h1 = valf.Get(path+\"/\"+n)\n",
    "        print h1\n",
    "        h1.SetMarkerStyle(1)\n",
    "        h1.SetMarkerColor(4)\n",
    "        h1.SetLineColor(4)\n",
    "        if names2 != None: n = names2[i]\n",
    "        h2 = reff.Get(path+\"/\"+n)\n",
    "        h2.SetMarkerStyle(1)\n",
    "        h2.SetMarkerColor(1)\n",
    "        h2.SetLineColor(1)\n",
    "\n",
    "        h1.GetYaxis().SetTitleOffset(1)\n",
    "\n",
    "        h1.SetStats(0)\n",
    "        h2.SetStats(0)\n",
    "\n",
    "        h1.Draw(\"E\")\n",
    "        if val != ref: h2.Draw(\"Esame\")\n",
    "\n",
    "        t = ROOT.TText(.5,.85, trig)\n",
    "        t.SetTextFont(43)\n",
    "        t.SetTextSize(12)\n",
    "        t.SetNDC(True)\n",
    "        t.Draw() \n",
    "        legend = ROOT.TLegend(0.12,0.75,0.38,0.88, \"leg\")\n",
    "        legend.SetFillStyle(0)\n",
    "        legend.SetBorderSize(0)\n",
    "        legend.SetHeader(\"CMSSW Release\")\n",
    "        legend.AddEntry(h1,val,\"PL\")\n",
    "        if val != ref: legend.AddEntry(h2,ref,\"PL\")\n",
    "        legend.Draw(\"Same\")\n",
    "        #exec('c{}.Draw()'.format(i))\n",
    "        try: os.mkdir('/home/anovak/Desktop/RelVal/'+ out)\n",
    "        except: pass\n",
    "        exec('c{}.SaveAs(\"{}\")'.format(i, '/home/anovak/Desktop/RelVal/'+out+\"/\"+n+\".png\" ))\n",
    "        #c1.SaveAs('/home/anovak/Desktop/plots/'+n+\".png\")\n",
    "        #del c1\n",
    "        #break\n",
    "def run(val, ref, out=None, names2=False):\n",
    "    #plots(hist_names1, path1, \"10_2_0_pre6_pu25_pmx\", \"10_2_0_pre6_pu25\")\n",
    "    #plots(hist_names2, path2, \"10_2_0_pre6_pu25_pmx\", \"10_2_0_pre6_pu25\")\n",
    "    if not names2:\n",
    "        plots(hist_names1, path1, val, ref, out=out)\n",
    "        plots(hist_names2, path2, val, ref, out=out)\n",
    "    else: \n",
    "        plots(hist_names1, path1, val, ref, out=out, names2=hist_names01)\n",
    "        plots(hist_names2, path2, val, ref, out=out, names2=hist_names02)\n",
    "\n",
    "run(\"10_2_0_pu25_pmx\", \"10_2_0_pu25\")\n",
    "run(\"10_2_0_pu25\", \"10_2_0_pre6_pu25-rsb\")\n",
    "run(\"10_2_0\", \"10_2_0_pre6\")\n",
    "\n",
    "        \n",
    "#run(\"10_2_0_pre3_pu25_pmx_private\", \"10_2_0_pre3_pu25_private\")\n",
    "#run(\"10_2_0_pre6_pu25_pmx\", \"10_2_0_pre3_pu25_pmx_private\", out=\"10_2_0_pre6-3_pu25_pmx\")\n",
    "#run(\"10_2_0_pre6_pu25_pmx\", \"10_2_0_pre6_pu25-rsb\")\n",
    "#run(\"10_2_0_pre6_pu25-rsb\", \"10_2_0_pre3_pu25_private\")\n",
    "#run(\"10_2_0_pre6\", \"10_2_0_pre3_private\")\n",
    "#########\n",
    "#run(\"10_2_0_pre3_pu25_pmx_private\", \"10_2_0_pre3_pu25_pmx\", out='DeepCSV-CSV-pmx', names2=True)\n",
    "#run(\"10_2_0_pre3_pu25_private\", \"10_2_0_pre3_pu25\", out='DeepCSV-CSV-pu25', names2=True)\n",
    "#run(\"10_2_0_pre3_private\", \"10_2_0_pre3\", out='DeepCSV-CSV', names2=True)\n",
    "\n"
   ]
  },
  {
   "cell_type": "code",
   "execution_count": 51,
   "metadata": {},
   "outputs": [],
   "source": [
    "from ROOT import gROOT\n",
    "gROOT.GetListOfCanvases().Draw()"
   ]
  },
  {
   "cell_type": "code",
   "execution_count": null,
   "metadata": {},
   "outputs": [],
   "source": []
  }
 ],
 "metadata": {
  "kernelspec": {
   "display_name": "Python 2",
   "language": "python",
   "name": "python2"
  },
  "language_info": {
   "codemirror_mode": {
    "name": "ipython",
    "version": 2
   },
   "file_extension": ".py",
   "mimetype": "text/x-python",
   "name": "python",
   "nbconvert_exporter": "python",
   "pygments_lexer": "ipython2",
   "version": "2.7.15"
  }
 },
 "nbformat": 4,
 "nbformat_minor": 2
}
